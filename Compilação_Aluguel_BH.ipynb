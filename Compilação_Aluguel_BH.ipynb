{
  "nbformat": 4,
  "nbformat_minor": 0,
  "metadata": {
    "colab": {
      "name": "Compilação_Aluguel_BH",
      "provenance": []
    },
    "kernelspec": {
      "name": "python3",
      "display_name": "Python 3"
    }
  },
  "cells": [
    {
      "cell_type": "code",
      "metadata": {
        "id": "ucI1f4yGHOTw",
        "outputId": "28c4502c-c3b7-40e1-c4b1-45061c0e1ea9",
        "colab": {
          "base_uri": "https://localhost:8080/"
        }
      },
      "source": [
        "bairro_base = input('Qual bairro de Beagá deseja consultar? ')"
      ],
      "execution_count": 37,
      "outputs": [
        {
          "output_type": "stream",
          "text": [
            "Qual bairro de Beagá deseja consultar? Carlos Prates\n"
          ],
          "name": "stdout"
        }
      ]
    },
    {
      "cell_type": "code",
      "metadata": {
        "id": "nj7u-aSbE0W3"
      },
      "source": [
        "import requests\n",
        "from bs4 import BeautifulSoup\n",
        "import pandas as pd\n",
        "from time import sleep"
      ],
      "execution_count": 38,
      "outputs": []
    },
    {
      "cell_type": "code",
      "metadata": {
        "id": "eBF81Pb0JLYW"
      },
      "source": [
        "def scrap(url):\n",
        "    c=requests.get(url).content\n",
        "    soup=BeautifulSoup(c)\n",
        "    aluguel_tags = soup.find_all('span', {'class':'price-tag-fraction'})\n",
        "    alugueis_lista = [p.text for p in aluguel_tags]\n",
        "    enderecos_tags = soup.find_all('span', {'class':'ui-search-item__group__element'})\n",
        "    enderecos_lista=[end.text for end in enderecos_tags]\n",
        "    enderecos_lista=enderecos_lista[1::2]\n",
        "    area_quartos_tags = soup.find_all('ul', {'class':'ui-search-card-attributes'})\n",
        "    area_quartos_lista=[aq.text for aq in area_quartos_tags]\n",
        "    df=convert_df(bairro, area_quartos_lista, enderecos_lista, alugueis_lista)\n",
        "    return df\n",
        "\n",
        "def convert_df(bairro, area_quartos_lista, enderecos_lista, alugueis_lista):\n",
        "    bairros_lista = [bairro]*len(alugueis_lista)\n",
        "    data = {'bairro': bairros_lista,\n",
        "            'area_quartos': area_quartos_lista,\n",
        "            'enderecos_lista':enderecos_lista,\n",
        "            'aluguel': alugueis_lista}\n",
        "    df = pd.DataFrame(data)\n",
        "    return df"
      ],
      "execution_count": 39,
      "outputs": []
    },
    {
      "cell_type": "code",
      "metadata": {
        "id": "PUnLg-HkJn_m",
        "outputId": "b3bdf564-332d-41d3-908d-3acf5143612c",
        "colab": {
          "base_uri": "https://localhost:8080/"
        }
      },
      "source": [
        "bairro=bairro_base.lower().replace(\" \",\"-\")\n",
        "URL='https://imoveis.mercadolivre.com.br/aluguel/minas-gerais/belo-horizonte/{}/{}'\n",
        "paginas = ['', '_Desde_49', '_Desde_97', '_Desde_145', '_Desde_193', \n",
        "           '_Desde_241', '_Desde_289','_Desde_337']\n",
        "lista_dfs=[]\n",
        "for pg in paginas:\n",
        "   url = URL.format(bairro,pg)\n",
        "   print('Coletando URL:', url)\n",
        "   try:\n",
        "     df = scrap(url)\n",
        "   except Exception as e:\n",
        "     print('Erro ao coletar URL:', url)\n",
        "     print(e)  \n",
        "   lista_dfs.append(df)\n",
        "   sleep(1)\n",
        "df_final = pd.concat(lista_dfs)"
      ],
      "execution_count": 40,
      "outputs": [
        {
          "output_type": "stream",
          "text": [
            "Coletando URL: https://imoveis.mercadolivre.com.br/aluguel/minas-gerais/belo-horizonte/carlos-prates/\n",
            "Coletando URL: https://imoveis.mercadolivre.com.br/aluguel/minas-gerais/belo-horizonte/carlos-prates/_Desde_49\n",
            "Coletando URL: https://imoveis.mercadolivre.com.br/aluguel/minas-gerais/belo-horizonte/carlos-prates/_Desde_97\n",
            "Coletando URL: https://imoveis.mercadolivre.com.br/aluguel/minas-gerais/belo-horizonte/carlos-prates/_Desde_145\n",
            "Coletando URL: https://imoveis.mercadolivre.com.br/aluguel/minas-gerais/belo-horizonte/carlos-prates/_Desde_193\n",
            "Coletando URL: https://imoveis.mercadolivre.com.br/aluguel/minas-gerais/belo-horizonte/carlos-prates/_Desde_241\n",
            "Coletando URL: https://imoveis.mercadolivre.com.br/aluguel/minas-gerais/belo-horizonte/carlos-prates/_Desde_289\n",
            "Coletando URL: https://imoveis.mercadolivre.com.br/aluguel/minas-gerais/belo-horizonte/carlos-prates/_Desde_337\n"
          ],
          "name": "stdout"
        }
      ]
    },
    {
      "cell_type": "code",
      "metadata": {
        "id": "9IQfTvLEuYnn"
      },
      "source": [
        "df_final['aluguel']=df_final['aluguel'].str.replace(\".\",\"\").astype(float)\n",
        "df_final = df_final.sort_values(['aluguel'],ascending=False)"
      ],
      "execution_count": 41,
      "outputs": []
    },
    {
      "cell_type": "code",
      "metadata": {
        "id": "nyKzE0jKclM5",
        "outputId": "f22bb759-05d9-4cab-c935-5230d23234a0",
        "colab": {
          "base_uri": "https://localhost:8080/",
          "height": 195
        }
      },
      "source": [
        "df_final.head()"
      ],
      "execution_count": 42,
      "outputs": [
        {
          "output_type": "execute_result",
          "data": {
            "text/html": [
              "<div>\n",
              "<style scoped>\n",
              "    .dataframe tbody tr th:only-of-type {\n",
              "        vertical-align: middle;\n",
              "    }\n",
              "\n",
              "    .dataframe tbody tr th {\n",
              "        vertical-align: top;\n",
              "    }\n",
              "\n",
              "    .dataframe thead th {\n",
              "        text-align: right;\n",
              "    }\n",
              "</style>\n",
              "<table border=\"1\" class=\"dataframe\">\n",
              "  <thead>\n",
              "    <tr style=\"text-align: right;\">\n",
              "      <th></th>\n",
              "      <th>bairro</th>\n",
              "      <th>area_quartos</th>\n",
              "      <th>enderecos_lista</th>\n",
              "      <th>aluguel</th>\n",
              "    </tr>\n",
              "  </thead>\n",
              "  <tbody>\n",
              "    <tr>\n",
              "      <th>12</th>\n",
              "      <td>carlos-prates</td>\n",
              "      <td>3,100 m² construídos</td>\n",
              "      <td>Carlos Prates, Belo Horizonte, Minas Gerais</td>\n",
              "      <td>165000.0</td>\n",
              "    </tr>\n",
              "    <tr>\n",
              "      <th>14</th>\n",
              "      <td>carlos-prates</td>\n",
              "      <td>1,800 m² construídos</td>\n",
              "      <td>Carlos Prates, Belo Horizonte, Minas Gerais</td>\n",
              "      <td>35000.0</td>\n",
              "    </tr>\n",
              "    <tr>\n",
              "      <th>9</th>\n",
              "      <td>carlos-prates</td>\n",
              "      <td>1,100 m² construídos</td>\n",
              "      <td>Avenida Dom Pedro Ii, Carlos Prates, Belo Hori...</td>\n",
              "      <td>24000.0</td>\n",
              "    </tr>\n",
              "    <tr>\n",
              "      <th>10</th>\n",
              "      <td>carlos-prates</td>\n",
              "      <td>1,300 m² construídos</td>\n",
              "      <td>Avenida Nossa Senhora De Fátima, Carlos Prates...</td>\n",
              "      <td>13000.0</td>\n",
              "    </tr>\n",
              "    <tr>\n",
              "      <th>15</th>\n",
              "      <td>carlos-prates</td>\n",
              "      <td>800 m² construídos</td>\n",
              "      <td>Carlos Prates, Belo Horizonte, Minas Gerais</td>\n",
              "      <td>6500.0</td>\n",
              "    </tr>\n",
              "  </tbody>\n",
              "</table>\n",
              "</div>"
            ],
            "text/plain": [
              "           bairro  ...   aluguel\n",
              "12  carlos-prates  ...  165000.0\n",
              "14  carlos-prates  ...   35000.0\n",
              "9   carlos-prates  ...   24000.0\n",
              "10  carlos-prates  ...   13000.0\n",
              "15  carlos-prates  ...    6500.0\n",
              "\n",
              "[5 rows x 4 columns]"
            ]
          },
          "metadata": {
            "tags": []
          },
          "execution_count": 42
        }
      ]
    },
    {
      "cell_type": "code",
      "metadata": {
        "id": "_TggVYaccgxe",
        "outputId": "75341aba-9b38-43bd-a477-4f29d91b684d",
        "colab": {
          "base_uri": "https://localhost:8080/"
        }
      },
      "source": [
        "df_final['aluguel'].describe()"
      ],
      "execution_count": 43,
      "outputs": [
        {
          "output_type": "execute_result",
          "data": {
            "text/plain": [
              "count       133.000000\n",
              "mean       2928.609023\n",
              "std       14644.091743\n",
              "min         400.000000\n",
              "25%         900.000000\n",
              "50%        1096.000000\n",
              "75%        1200.000000\n",
              "max      165000.000000\n",
              "Name: aluguel, dtype: float64"
            ]
          },
          "metadata": {
            "tags": []
          },
          "execution_count": 43
        }
      ]
    },
    {
      "cell_type": "code",
      "metadata": {
        "id": "zX9h3b0Dk9hV",
        "outputId": "085a6a37-b7ef-480d-de64-699f1c2db2a0",
        "colab": {
          "base_uri": "https://localhost:8080/"
        }
      },
      "source": [
        "print(f\"Há {int(df_final['aluguel'].count())} aptos disponíveis para aluguel no bairro {bairro_base}.\")\n",
        "print(f\"O preço do aluguel mais caro do bairro {bairro_base} é R${int(df_final['aluguel'].max())}.\")\n",
        "print(f\"O preço do aluguel mais barato do bairro {bairro_base} é R${int(df_final['aluguel'].min())}.\")\n",
        "print(f\"A média de aluguel do bairro {bairro_base} é R${round(df_final['aluguel'].mean(),2)}.\")"
      ],
      "execution_count": 51,
      "outputs": [
        {
          "output_type": "stream",
          "text": [
            "Há 133 aptos disponíveis para aluguel no bairro Carlos Prates.\n",
            "O preço do aluguel mais caro do bairro Carlos Prates é R$165000.\n",
            "O preço do aluguel mais barato do bairro Carlos Prates é R$400.\n",
            "A média de aluguel do bairro Carlos Prates é R$2928.61.\n"
          ],
          "name": "stdout"
        }
      ]
    },
    {
      "cell_type": "code",
      "metadata": {
        "id": "huxEs4Y7yI7T"
      },
      "source": [
        "df_final.to_csv(f'Dados-Aluguel-BH-{bairro}.csv',index=False,encoding='latin')"
      ],
      "execution_count": 7,
      "outputs": []
    }
  ]
}