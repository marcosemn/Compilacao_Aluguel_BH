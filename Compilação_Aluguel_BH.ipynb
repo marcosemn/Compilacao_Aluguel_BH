{
  "nbformat": 4,
  "nbformat_minor": 0,
  "metadata": {
    "colab": {
      "name": "Compilação_Aluguel_BH",
      "provenance": []
    },
    "kernelspec": {
      "name": "python3",
      "display_name": "Python 3"
    }
  },
  "cells": [
    {
      "cell_type": "code",
      "metadata": {
        "id": "ucI1f4yGHOTw",
        "outputId": "83e361cb-866b-4e83-b6c6-53f4c4311fbd",
        "colab": {
          "base_uri": "https://localhost:8080/"
        }
      },
      "source": [
        "bairro_base = input('Qual bairro de Beagá deseja consultar? ')"
      ],
      "execution_count": 1,
      "outputs": [
        {
          "output_type": "stream",
          "text": [
            "Qual bairro de Beagá deseja consultar? Carlos Prates\n"
          ],
          "name": "stdout"
        }
      ]
    },
    {
      "cell_type": "code",
      "metadata": {
        "id": "nj7u-aSbE0W3"
      },
      "source": [
        "import requests\n",
        "from bs4 import BeautifulSoup\n",
        "import pandas as pd\n",
        "from time import sleep"
      ],
      "execution_count": 2,
      "outputs": []
    },
    {
      "cell_type": "code",
      "metadata": {
        "id": "eBF81Pb0JLYW"
      },
      "source": [
        "def scrap(url):\n",
        "    c=requests.get(url).content\n",
        "    soup=BeautifulSoup(c)\n",
        "    aluguel_tags = soup.find_all('span', {'class':'price-tag-fraction'})\n",
        "    alugueis_lista = [p.text for p in aluguel_tags]\n",
        "    enderecos_tags = soup.find_all('span', {'class':'ui-search-item__group__element'})\n",
        "    enderecos_lista=[end.text for end in enderecos_tags]\n",
        "    enderecos_lista=enderecos_lista[1::2]\n",
        "    area_quartos_tags = soup.find_all('ul', {'class':'ui-search-card-attributes'})\n",
        "    area = [elem.findChildren()[0].text for elem in area_quartos_tags]\n",
        "    quartos = [elem.findChildren()[1].text if len(elem.findChildren()) > 1 else -1 for elem in area_quartos_tags]\n",
        "    df=convert_df(bairro, area, quartos, enderecos_lista, alugueis_lista)\n",
        "    return df\n",
        "\n",
        "def convert_df(bairro, area, quartos, enderecos_lista, alugueis_lista):\n",
        "    bairros_lista = [bairro]*len(alugueis_lista)\n",
        "    data = {'bairro': bairros_lista,\n",
        "            'area': area,\n",
        "            'quartos':quartos,\n",
        "            'enderecos_lista':enderecos_lista,\n",
        "            'aluguel': alugueis_lista}\n",
        "    df = pd.DataFrame(data)\n",
        "    return df"
      ],
      "execution_count": 3,
      "outputs": []
    },
    {
      "cell_type": "code",
      "metadata": {
        "id": "PUnLg-HkJn_m",
        "outputId": "11efc14b-4f71-41d4-bd06-41f3cb6001e3",
        "colab": {
          "base_uri": "https://localhost:8080/"
        }
      },
      "source": [
        "bairro=bairro_base.lower().replace(\" \",\"-\")\n",
        "URL='https://imoveis.mercadolivre.com.br/aluguel/minas-gerais/belo-horizonte/{}/{}'\n",
        "paginas = ['', '_Desde_49', '_Desde_97', '_Desde_145', '_Desde_193', \n",
        "           '_Desde_241', '_Desde_289','_Desde_337']\n",
        "lista_dfs=[]\n",
        "for pg in paginas:\n",
        "   url = URL.format(bairro,pg)\n",
        "   print('Coletando URL:', url)\n",
        "   try:\n",
        "     df = scrap(url)\n",
        "   except Exception as e:\n",
        "     print('Erro ao coletar URL:', url)\n",
        "     print(e)  \n",
        "   lista_dfs.append(df)\n",
        "   sleep(1)\n",
        "df_final = pd.concat(lista_dfs)"
      ],
      "execution_count": 4,
      "outputs": [
        {
          "output_type": "stream",
          "text": [
            "Coletando URL: https://imoveis.mercadolivre.com.br/aluguel/minas-gerais/belo-horizonte/carlos-prates/\n",
            "Coletando URL: https://imoveis.mercadolivre.com.br/aluguel/minas-gerais/belo-horizonte/carlos-prates/_Desde_49\n",
            "Coletando URL: https://imoveis.mercadolivre.com.br/aluguel/minas-gerais/belo-horizonte/carlos-prates/_Desde_97\n",
            "Coletando URL: https://imoveis.mercadolivre.com.br/aluguel/minas-gerais/belo-horizonte/carlos-prates/_Desde_145\n",
            "Coletando URL: https://imoveis.mercadolivre.com.br/aluguel/minas-gerais/belo-horizonte/carlos-prates/_Desde_193\n",
            "Coletando URL: https://imoveis.mercadolivre.com.br/aluguel/minas-gerais/belo-horizonte/carlos-prates/_Desde_241\n",
            "Coletando URL: https://imoveis.mercadolivre.com.br/aluguel/minas-gerais/belo-horizonte/carlos-prates/_Desde_289\n",
            "Coletando URL: https://imoveis.mercadolivre.com.br/aluguel/minas-gerais/belo-horizonte/carlos-prates/_Desde_337\n"
          ],
          "name": "stdout"
        }
      ]
    },
    {
      "cell_type": "code",
      "metadata": {
        "id": "9IQfTvLEuYnn"
      },
      "source": [
        "df_final['aluguel']=df_final['aluguel'].str.replace(\".\",\"\").astype(float)\n",
        "df_final = df_final.sort_values(['aluguel'],ascending=False)"
      ],
      "execution_count": 5,
      "outputs": []
    },
    {
      "cell_type": "code",
      "metadata": {
        "id": "nyKzE0jKclM5",
        "outputId": "d412e854-eecf-4d84-fd0d-2b021b27fb1e",
        "colab": {
          "base_uri": "https://localhost:8080/",
          "height": 343
        }
      },
      "source": [
        "df_final.head(10)"
      ],
      "execution_count": 6,
      "outputs": [
        {
          "output_type": "execute_result",
          "data": {
            "text/html": [
              "<div>\n",
              "<style scoped>\n",
              "    .dataframe tbody tr th:only-of-type {\n",
              "        vertical-align: middle;\n",
              "    }\n",
              "\n",
              "    .dataframe tbody tr th {\n",
              "        vertical-align: top;\n",
              "    }\n",
              "\n",
              "    .dataframe thead th {\n",
              "        text-align: right;\n",
              "    }\n",
              "</style>\n",
              "<table border=\"1\" class=\"dataframe\">\n",
              "  <thead>\n",
              "    <tr style=\"text-align: right;\">\n",
              "      <th></th>\n",
              "      <th>bairro</th>\n",
              "      <th>area</th>\n",
              "      <th>quartos</th>\n",
              "      <th>enderecos_lista</th>\n",
              "      <th>aluguel</th>\n",
              "    </tr>\n",
              "  </thead>\n",
              "  <tbody>\n",
              "    <tr>\n",
              "      <th>11</th>\n",
              "      <td>carlos-prates</td>\n",
              "      <td>3,100 m² construídos</td>\n",
              "      <td>-1</td>\n",
              "      <td>Carlos Prates, Belo Horizonte, Minas Gerais</td>\n",
              "      <td>165000.0</td>\n",
              "    </tr>\n",
              "    <tr>\n",
              "      <th>14</th>\n",
              "      <td>carlos-prates</td>\n",
              "      <td>1,800 m² construídos</td>\n",
              "      <td>-1</td>\n",
              "      <td>Carlos Prates, Belo Horizonte, Minas Gerais</td>\n",
              "      <td>35000.0</td>\n",
              "    </tr>\n",
              "    <tr>\n",
              "      <th>8</th>\n",
              "      <td>carlos-prates</td>\n",
              "      <td>1,100 m² construídos</td>\n",
              "      <td>-1</td>\n",
              "      <td>Avenida Dom Pedro Ii, Carlos Prates, Belo Hori...</td>\n",
              "      <td>24000.0</td>\n",
              "    </tr>\n",
              "    <tr>\n",
              "      <th>9</th>\n",
              "      <td>carlos-prates</td>\n",
              "      <td>1,300 m² construídos</td>\n",
              "      <td>-1</td>\n",
              "      <td>Avenida Nossa Senhora De Fátima, Carlos Prates...</td>\n",
              "      <td>13000.0</td>\n",
              "    </tr>\n",
              "    <tr>\n",
              "      <th>15</th>\n",
              "      <td>carlos-prates</td>\n",
              "      <td>800 m² construídos</td>\n",
              "      <td>-1</td>\n",
              "      <td>Carlos Prates, Belo Horizonte, Minas Gerais</td>\n",
              "      <td>6500.0</td>\n",
              "    </tr>\n",
              "    <tr>\n",
              "      <th>29</th>\n",
              "      <td>carlos-prates</td>\n",
              "      <td>318 m² construídos</td>\n",
              "      <td>4 quartos</td>\n",
              "      <td>Rua Areado, Carlos Prates, Belo Horizonte, Min...</td>\n",
              "      <td>4500.0</td>\n",
              "    </tr>\n",
              "    <tr>\n",
              "      <th>16</th>\n",
              "      <td>carlos-prates</td>\n",
              "      <td>316 m² construídos</td>\n",
              "      <td>4 quartos</td>\n",
              "      <td>Rua Areado, Carlos Prates, Belo Horizonte, Min...</td>\n",
              "      <td>4500.0</td>\n",
              "    </tr>\n",
              "    <tr>\n",
              "      <th>35</th>\n",
              "      <td>carlos-prates</td>\n",
              "      <td>280 m² construídos</td>\n",
              "      <td>3 quartos</td>\n",
              "      <td>Carlos Prates, Belo Horizonte, Minas Gerais</td>\n",
              "      <td>3500.0</td>\n",
              "    </tr>\n",
              "    <tr>\n",
              "      <th>36</th>\n",
              "      <td>carlos-prates</td>\n",
              "      <td>535 m² construídos</td>\n",
              "      <td>-1</td>\n",
              "      <td>Av.carlos Luz  117, Carlos Prates, Belo Horizo...</td>\n",
              "      <td>3300.0</td>\n",
              "    </tr>\n",
              "    <tr>\n",
              "      <th>35</th>\n",
              "      <td>carlos-prates</td>\n",
              "      <td>250 m² construídos</td>\n",
              "      <td>-1</td>\n",
              "      <td>Rua Itambacuri 305, Carlos Prates, Belo Horizo...</td>\n",
              "      <td>2900.0</td>\n",
              "    </tr>\n",
              "  </tbody>\n",
              "</table>\n",
              "</div>"
            ],
            "text/plain": [
              "           bairro  ...   aluguel\n",
              "11  carlos-prates  ...  165000.0\n",
              "14  carlos-prates  ...   35000.0\n",
              "8   carlos-prates  ...   24000.0\n",
              "9   carlos-prates  ...   13000.0\n",
              "15  carlos-prates  ...    6500.0\n",
              "29  carlos-prates  ...    4500.0\n",
              "16  carlos-prates  ...    4500.0\n",
              "35  carlos-prates  ...    3500.0\n",
              "36  carlos-prates  ...    3300.0\n",
              "35  carlos-prates  ...    2900.0\n",
              "\n",
              "[10 rows x 5 columns]"
            ]
          },
          "metadata": {
            "tags": []
          },
          "execution_count": 6
        }
      ]
    },
    {
      "cell_type": "code",
      "metadata": {
        "id": "_TggVYaccgxe",
        "outputId": "7e164cdb-278e-4482-c81c-8cdb007dc852",
        "colab": {
          "base_uri": "https://localhost:8080/"
        }
      },
      "source": [
        "df_final['aluguel'].describe()"
      ],
      "execution_count": 7,
      "outputs": [
        {
          "output_type": "execute_result",
          "data": {
            "text/plain": [
              "count       133.000000\n",
              "mean       2927.458647\n",
              "std       14644.161224\n",
              "min         400.000000\n",
              "25%         900.000000\n",
              "50%        1096.000000\n",
              "75%        1200.000000\n",
              "max      165000.000000\n",
              "Name: aluguel, dtype: float64"
            ]
          },
          "metadata": {
            "tags": []
          },
          "execution_count": 7
        }
      ]
    },
    {
      "cell_type": "code",
      "metadata": {
        "id": "zX9h3b0Dk9hV",
        "outputId": "ac50ece1-6061-4707-dd5e-e67058d45d3d",
        "colab": {
          "base_uri": "https://localhost:8080/"
        }
      },
      "source": [
        "print(f\"Há {int(df_final['aluguel'].count())} aptos disponíveis para aluguel no bairro {bairro_base}.\")\n",
        "print(f\"O preço do aluguel mais caro do bairro {bairro_base} é R${int(df_final['aluguel'].max())}.\")\n",
        "print(f\"O preço do aluguel mais barato do bairro {bairro_base} é R${int(df_final['aluguel'].min())}.\")\n",
        "print(f\"A média de aluguel do bairro {bairro_base} é R${round(df_final['aluguel'].mean(),2)}.\")"
      ],
      "execution_count": 8,
      "outputs": [
        {
          "output_type": "stream",
          "text": [
            "Há 133 aptos disponíveis para aluguel no bairro Carlos Prates.\n",
            "O preço do aluguel mais caro do bairro Carlos Prates é R$165000.\n",
            "O preço do aluguel mais barato do bairro Carlos Prates é R$400.\n",
            "A média de aluguel do bairro Carlos Prates é R$2927.46.\n"
          ],
          "name": "stdout"
        }
      ]
    },
    {
      "cell_type": "code",
      "metadata": {
        "id": "huxEs4Y7yI7T"
      },
      "source": [
        "df_final.to_csv(f'Dados-Aluguel-BH-{bairro}.csv',index=False,encoding='latin')"
      ],
      "execution_count": 9,
      "outputs": []
    }
  ]
}